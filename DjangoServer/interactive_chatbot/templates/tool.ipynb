{
 "cells": [
  {
   "cell_type": "code",
   "execution_count": 1,
   "metadata": {},
   "outputs": [],
   "source": [
    "import os\n",
    "\n",
    "# Danh sách các thư mục và tệp cần tạo\n",
    "structure = {\n",
    "    'bots': ['add_bot.html', 'add_bot.js', 'bots.html', 'bots.js', 'edit_bot.html', 'edit_bot.js', 'import_bot.html', 'import_bot.js'],\n",
    "    'chat': ['chat.html', 'chat.js'],\n",
    "    'dashboard': ['dashboard.html', 'dashboard.js', 'widgets.js'],\n",
    "    'entities': ['add_entity.html', 'add_entity.js', 'edit_entity.html', 'edit_entity.js'],\n",
    "    'insights': ['insights.html', 'insights.js'],\n",
    "    'intents': ['add_intent.html', 'add_intent.js', 'edit_intent.html', 'edit_intent.js'],\n",
    "    'logs': ['logs.html', 'logs.js'],\n",
    "    'models': [],\n",
    "    'rasaconfig': ['rasa_config.html', 'rasa_config.js'],\n",
    "    'regex': ['add_regex.html', 'add_regex.js', 'edit_regex.html', 'edit_regex.js'],\n",
    "    'responses': ['add_action.html', 'add_action.js', 'responses.html', 'responses.js'],\n",
    "    'settings': ['settings.html', 'settings.js'],\n",
    "    'stories': ['stories.html', 'stories.js'],\n",
    "    'synonyms': ['add_synonym.html', 'add_synonym.js', 'edit_synonym.html', 'edit_synonym.js'],\n",
    "    'training': ['training.html', 'training.js']\n",
    "}\n",
    "\n",
    "# Tạo các thư mục và tệp\n",
    "for dir, files in structure.items():\n",
    "    os.makedirs(dir, exist_ok=True)\n",
    "    for file in files:\n",
    "        with open(os.path.join(dir, file), 'w') as f:\n",
    "            pass"
   ]
  },
  {
   "cell_type": "code",
   "execution_count": 3,
   "metadata": {},
   "outputs": [],
   "source": [
    "import os\n",
    "\n",
    "# Create directories\n",
    "os.makedirs('shared/aside', exist_ok=True)\n",
    "os.makedirs('shared/navbar', exist_ok=True)\n",
    "os.makedirs('shared/sidebar', exist_ok=True)\n",
    "\n",
    "# Create files\n",
    "open('shared/aside/aside.html', 'a').close()\n",
    "open('shared/aside/aside.js', 'a').close()\n",
    "\n",
    "open('shared/navbar/navbar.html', 'a').close()\n",
    "open('shared/navbar/navbar.js', 'a').close()\n",
    "\n",
    "open('shared/sidebar/sidebar.html', 'a').close()\n",
    "open('shared/sidebar/sidebar.js', 'a').close()\n"
   ]
  },
  {
   "cell_type": "code",
   "execution_count": 1,
   "metadata": {},
   "outputs": [
    {
     "ename": "SyntaxError",
     "evalue": "invalid syntax (1977128042.py, line 1)",
     "output_type": "error",
     "traceback": [
      "\u001b[1;36m  Cell \u001b[1;32mIn[1], line 1\u001b[1;36m\u001b[0m\n\u001b[1;33m    viết script move tất các file js vào folder static\u001b[0m\n\u001b[1;37m         ^\u001b[0m\n\u001b[1;31mSyntaxError\u001b[0m\u001b[1;31m:\u001b[0m invalid syntax\n"
     ]
    }
   ],
   "source": []
  },
  {
   "cell_type": "code",
   "execution_count": 3,
   "metadata": {},
   "outputs": [
    {
     "name": "stdout",
     "output_type": "stream",
     "text": [
      "Moved: d:\\Projects\\EnterpriseRegistrationSystem\\DjangoServer\\interactive_chatbot\\templates\\bots\\add_bot.js -> d:\\Projects\\EnterpriseRegistrationSystem\\DjangoServer\\interactive_chatbot\\static\\js\\.\\add_bot.js\n",
      "Moved: d:\\Projects\\EnterpriseRegistrationSystem\\DjangoServer\\interactive_chatbot\\templates\\bots\\bots.js -> d:\\Projects\\EnterpriseRegistrationSystem\\DjangoServer\\interactive_chatbot\\static\\js\\.\\bots.js\n",
      "Moved: d:\\Projects\\EnterpriseRegistrationSystem\\DjangoServer\\interactive_chatbot\\templates\\bots\\edit_bot.js -> d:\\Projects\\EnterpriseRegistrationSystem\\DjangoServer\\interactive_chatbot\\static\\js\\.\\edit_bot.js\n",
      "Moved: d:\\Projects\\EnterpriseRegistrationSystem\\DjangoServer\\interactive_chatbot\\templates\\bots\\import_bot.js -> d:\\Projects\\EnterpriseRegistrationSystem\\DjangoServer\\interactive_chatbot\\static\\js\\.\\import_bot.js\n",
      "Moved: d:\\Projects\\EnterpriseRegistrationSystem\\DjangoServer\\interactive_chatbot\\templates\\chat\\chat.js -> d:\\Projects\\EnterpriseRegistrationSystem\\DjangoServer\\interactive_chatbot\\static\\js\\.\\chat.js\n",
      "Moved: d:\\Projects\\EnterpriseRegistrationSystem\\DjangoServer\\interactive_chatbot\\templates\\dashboard\\dashboard.js -> d:\\Projects\\EnterpriseRegistrationSystem\\DjangoServer\\interactive_chatbot\\static\\js\\.\\dashboard.js\n",
      "Moved: d:\\Projects\\EnterpriseRegistrationSystem\\DjangoServer\\interactive_chatbot\\templates\\dashboard\\widgets.js -> d:\\Projects\\EnterpriseRegistrationSystem\\DjangoServer\\interactive_chatbot\\static\\js\\.\\widgets.js\n",
      "Moved: d:\\Projects\\EnterpriseRegistrationSystem\\DjangoServer\\interactive_chatbot\\templates\\entities\\add_entity.js -> d:\\Projects\\EnterpriseRegistrationSystem\\DjangoServer\\interactive_chatbot\\static\\js\\.\\add_entity.js\n",
      "Moved: d:\\Projects\\EnterpriseRegistrationSystem\\DjangoServer\\interactive_chatbot\\templates\\entities\\edit_entity.js -> d:\\Projects\\EnterpriseRegistrationSystem\\DjangoServer\\interactive_chatbot\\static\\js\\.\\edit_entity.js\n",
      "Moved: d:\\Projects\\EnterpriseRegistrationSystem\\DjangoServer\\interactive_chatbot\\templates\\insights\\insights.js -> d:\\Projects\\EnterpriseRegistrationSystem\\DjangoServer\\interactive_chatbot\\static\\js\\.\\insights.js\n",
      "Moved: d:\\Projects\\EnterpriseRegistrationSystem\\DjangoServer\\interactive_chatbot\\templates\\intents\\add_intent.js -> d:\\Projects\\EnterpriseRegistrationSystem\\DjangoServer\\interactive_chatbot\\static\\js\\.\\add_intent.js\n",
      "Moved: d:\\Projects\\EnterpriseRegistrationSystem\\DjangoServer\\interactive_chatbot\\templates\\intents\\edit_intent.js -> d:\\Projects\\EnterpriseRegistrationSystem\\DjangoServer\\interactive_chatbot\\static\\js\\.\\edit_intent.js\n",
      "Moved: d:\\Projects\\EnterpriseRegistrationSystem\\DjangoServer\\interactive_chatbot\\templates\\logs\\logs.js -> d:\\Projects\\EnterpriseRegistrationSystem\\DjangoServer\\interactive_chatbot\\static\\js\\.\\logs.js\n",
      "Moved: d:\\Projects\\EnterpriseRegistrationSystem\\DjangoServer\\interactive_chatbot\\templates\\rasaconfig\\rasa_config.js -> d:\\Projects\\EnterpriseRegistrationSystem\\DjangoServer\\interactive_chatbot\\static\\js\\.\\rasa_config.js\n",
      "Moved: d:\\Projects\\EnterpriseRegistrationSystem\\DjangoServer\\interactive_chatbot\\templates\\regex\\add_regex.js -> d:\\Projects\\EnterpriseRegistrationSystem\\DjangoServer\\interactive_chatbot\\static\\js\\.\\add_regex.js\n",
      "Moved: d:\\Projects\\EnterpriseRegistrationSystem\\DjangoServer\\interactive_chatbot\\templates\\regex\\edit_regex.js -> d:\\Projects\\EnterpriseRegistrationSystem\\DjangoServer\\interactive_chatbot\\static\\js\\.\\edit_regex.js\n",
      "Moved: d:\\Projects\\EnterpriseRegistrationSystem\\DjangoServer\\interactive_chatbot\\templates\\responses\\add_action.js -> d:\\Projects\\EnterpriseRegistrationSystem\\DjangoServer\\interactive_chatbot\\static\\js\\.\\add_action.js\n",
      "Moved: d:\\Projects\\EnterpriseRegistrationSystem\\DjangoServer\\interactive_chatbot\\templates\\responses\\responses.js -> d:\\Projects\\EnterpriseRegistrationSystem\\DjangoServer\\interactive_chatbot\\static\\js\\.\\responses.js\n",
      "Moved: d:\\Projects\\EnterpriseRegistrationSystem\\DjangoServer\\interactive_chatbot\\templates\\settings\\settings.js -> d:\\Projects\\EnterpriseRegistrationSystem\\DjangoServer\\interactive_chatbot\\static\\js\\.\\settings.js\n",
      "Moved: d:\\Projects\\EnterpriseRegistrationSystem\\DjangoServer\\interactive_chatbot\\templates\\shared\\aside\\aside.js -> d:\\Projects\\EnterpriseRegistrationSystem\\DjangoServer\\interactive_chatbot\\static\\js\\aside\\aside.js\n",
      "Moved: d:\\Projects\\EnterpriseRegistrationSystem\\DjangoServer\\interactive_chatbot\\templates\\shared\\navbar\\navbar.js -> d:\\Projects\\EnterpriseRegistrationSystem\\DjangoServer\\interactive_chatbot\\static\\js\\navbar\\navbar.js\n",
      "Moved: d:\\Projects\\EnterpriseRegistrationSystem\\DjangoServer\\interactive_chatbot\\templates\\shared\\sidebar\\sidebar.js -> d:\\Projects\\EnterpriseRegistrationSystem\\DjangoServer\\interactive_chatbot\\static\\js\\sidebar\\sidebar.js\n",
      "Moved: d:\\Projects\\EnterpriseRegistrationSystem\\DjangoServer\\interactive_chatbot\\templates\\stories\\stories.js -> d:\\Projects\\EnterpriseRegistrationSystem\\DjangoServer\\interactive_chatbot\\static\\js\\.\\stories.js\n",
      "Moved: d:\\Projects\\EnterpriseRegistrationSystem\\DjangoServer\\interactive_chatbot\\templates\\synonyms\\add_synonym.js -> d:\\Projects\\EnterpriseRegistrationSystem\\DjangoServer\\interactive_chatbot\\static\\js\\.\\add_synonym.js\n",
      "Moved: d:\\Projects\\EnterpriseRegistrationSystem\\DjangoServer\\interactive_chatbot\\templates\\synonyms\\edit_synonym.js -> d:\\Projects\\EnterpriseRegistrationSystem\\DjangoServer\\interactive_chatbot\\static\\js\\.\\edit_synonym.js\n",
      "Moved: d:\\Projects\\EnterpriseRegistrationSystem\\DjangoServer\\interactive_chatbot\\templates\\training\\training.js -> d:\\Projects\\EnterpriseRegistrationSystem\\DjangoServer\\interactive_chatbot\\static\\js\\.\\training.js\n",
      "All .js files have been moved to the static directory.\n"
     ]
    }
   ],
   "source": [
    "import os\n",
    "import shutil\n",
    "\n",
    "# Define the root directory of your project and the target directory for the .js files\n",
    "root_dir = 'd:\\Projects\\EnterpriseRegistrationSystem\\DjangoServer\\interactive_chatbot'  # Adjust this to your project's root directory\n",
    "target_dir = os.path.join(root_dir, 'static', 'js')\n",
    "\n",
    "# Function to move .js files to the corresponding structure within the static directory\n",
    "def move_js_files(source_dir):\n",
    "    for root, dirs, files in os.walk(source_dir):\n",
    "        for file in files:\n",
    "            if file.endswith('.js'):\n",
    "                # Construct the source and destination file paths\n",
    "                source_file = os.path.join(root, file)\n",
    "                relative_path = os.path.relpath(root, source_dir)\n",
    "                target_path = os.path.join(target_dir, relative_path)\n",
    "\n",
    "                # Create the target directory if it does not exist\n",
    "                os.makedirs(target_path, exist_ok=True)\n",
    "\n",
    "                # Construct the destination file path\n",
    "                destination_file = os.path.join(target_path, file)\n",
    "\n",
    "                # Move the file\n",
    "                shutil.move(source_file, destination_file)\n",
    "                print(f'Moved: {source_file} -> {destination_file}')\n",
    "\n",
    "# Move .js files for each directory specified\n",
    "for directory in ['bots', 'chat', 'dashboard', 'entities', 'insights', 'intents', 'logs', 'rasaconfig', 'regex', 'responses', 'settings', 'shared', 'stories', 'synonyms', 'training']:\n",
    "    move_js_files(os.path.join(root_dir, 'templates', directory))\n",
    "\n",
    "print('All .js files have been moved to the static directory.')\n"
   ]
  }
 ],
 "metadata": {
  "kernelspec": {
   "display_name": "djangoenv",
   "language": "python",
   "name": "python3"
  },
  "language_info": {
   "codemirror_mode": {
    "name": "ipython",
    "version": 3
   },
   "file_extension": ".py",
   "mimetype": "text/x-python",
   "name": "python",
   "nbconvert_exporter": "python",
   "pygments_lexer": "ipython3",
   "version": "3.10.5"
  }
 },
 "nbformat": 4,
 "nbformat_minor": 2
}
