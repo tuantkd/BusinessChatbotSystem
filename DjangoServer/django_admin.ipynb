{
 "cells": [
  {
   "cell_type": "code",
   "execution_count": null,
   "metadata": {},
   "outputs": [],
   "source": [
    "# get all the translations\n",
    "!django-admin makemessages -l vi -i business_registration/  --ignore=\"site-packages/*\"\n",
    "\n"
   ]
  },
  {
   "cell_type": "code",
   "execution_count": null,
   "metadata": {},
   "outputs": [],
   "source": [
    "# compile the translations\n",
    "!django-admin compilemessages"
   ]
  }
 ],
 "metadata": {
  "language_info": {
   "name": "python"
  }
 },
 "nbformat": 4,
 "nbformat_minor": 2
}
