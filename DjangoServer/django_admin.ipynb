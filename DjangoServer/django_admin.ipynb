{
 "cells": [
  {
   "cell_type": "code",
   "execution_count": 2,
   "metadata": {},
   "outputs": [
    {
     "name": "stderr",
     "output_type": "stream",
     "text": [
      "CommandError: Can't find msguniq. Make sure you have GNU gettext tools 0.15 or newer installed.\n"
     ]
    }
   ],
   "source": [
    "# get all the translations\n",
    "!django-admin makemessages -l vi -i business_registration/  --ignore=\"site-packages/*\"\n",
    "\n"
   ]
  },
  {
   "cell_type": "code",
   "execution_count": null,
   "metadata": {},
   "outputs": [],
   "source": [
    "# compile the translations\n",
    "!django-admin compilemessages"
   ]
  }
 ],
 "metadata": {
  "kernelspec": {
   "display_name": "djangoenv",
   "language": "python",
   "name": "python3"
  },
  "language_info": {
   "codemirror_mode": {
    "name": "ipython",
    "version": 3
   },
   "file_extension": ".py",
   "mimetype": "text/x-python",
   "name": "python",
   "nbconvert_exporter": "python",
   "pygments_lexer": "ipython3",
   "version": "3.10.5"
  }
 },
 "nbformat": 4,
 "nbformat_minor": 2
}
